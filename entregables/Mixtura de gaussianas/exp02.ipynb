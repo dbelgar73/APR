{
 "cells": [
  {
   "cell_type": "markdown",
   "metadata": {},
   "source": [
    "Importación de las librerías python necesarias:"
   ]
  },
  {
   "cell_type": "code",
   "execution_count": 1,
   "metadata": {},
   "outputs": [],
   "source": [
    "import sys\n",
    "import math\n",
    "import numpy as np\n",
    "import pickle #modulo estandar para guardar y leer objetos en fichero\n",
    "from sklearn import mixture #paquete para mixturas de Gaussianas\n"
   ]
  },
  {
   "cell_type": "markdown",
   "metadata": {},
   "source": [
    "Lectura de parametros de la lınea de comandos:"
   ]
  },
  {
   "cell_type": "code",
   "execution_count": 2,
   "metadata": {},
   "outputs": [
    {
     "name": "stdout",
     "output_type": "stream",
     "text": [
      "Usage: c:\\Users\\david\\anaconda3\\envs\\vsc\\lib\\site-packages\\ipykernel_launcher.py <trdata> <trlabels> <%trper> <%dvper>\n"
     ]
    },
    {
     "ename": "SystemExit",
     "evalue": "1",
     "output_type": "error",
     "traceback": [
      "An exception has occurred, use %tb to see the full traceback.\n",
      "\u001b[1;31mSystemExit\u001b[0m\u001b[1;31m:\u001b[0m 1\n"
     ]
    },
    {
     "name": "stderr",
     "output_type": "stream",
     "text": [
      "c:\\Users\\david\\anaconda3\\envs\\vsc\\lib\\site-packages\\IPython\\core\\interactiveshell.py:3468: UserWarning: To exit: use 'exit', 'quit', or Ctrl-D.\n",
      "  warn(\"To exit: use 'exit', 'quit', or Ctrl-D.\", stacklevel=1)\n"
     ]
    }
   ],
   "source": [
    "if len(sys.argv)!=5:\n",
    "  print('Usage: %s <trdata> <trlabels> <%%trper> <%%dvper>' % sys.argv[0]);\n",
    "  sys.exit(1);\n",
    "#X: recoge datos (sin etiquetas de clase)\n",
    "X= np.load(sys.argv[1])['X'];\n",
    "#xl: recoge las etiquetas de clase de los datos\n",
    "xl=np.load(sys.argv[2])['xl'];\n",
    "#trper: porcentaje de datos de entrenamiento (p.e. 80\n",
    "trper=int(sys.argv[3]);\n",
    "#dvper: porcentaje de datos de desarrollo (p.e. 20\n",
    "dvper=int(sys.argv[4]);"
   ]
  },
  {
   "cell_type": "markdown",
   "metadata": {},
   "source": [
    "Parametros para crear un modelo de mixturas de Gaussianas:"
   ]
  },
  {
   "cell_type": "code",
   "execution_count": null,
   "metadata": {},
   "outputs": [],
   "source": [
    "K=1; #numero de componentes\n",
    "rc=0.1; #factor de regularizacion de la matriz de covarianza\n",
    "seed=23; #semilla para generacion de numeros aleatorio"
   ]
  },
  {
   "cell_type": "markdown",
   "metadata": {},
   "source": [
    "Barajado y particion train-dev de los datos:"
   ]
  },
  {
   "cell_type": "code",
   "execution_count": null,
   "metadata": {},
   "outputs": [],
   "source": [
    "N=X.shape[0];\n",
    "np.random.seed(seed); perm=np.random.permutation(N);\n",
    "X=X[perm]; xl=xl[perm];\n",
    "\n",
    "# Selecting a subset for train and dev sets\n",
    "Ntr=round(trper/100*N); #numero de datos de training\n",
    "Xtr=X[:Ntr,:]; xltr=xl[:Ntr]; #datos de training\n",
    "Ndv=round(dvper/100*N); #numero de datos de development\n",
    "Xdv=X[N-Ndv:,:]; xldv=xl[N-Ndv:]; #datos de development"
   ]
  },
  {
   "cell_type": "markdown",
   "metadata": {},
   "source": [
    "Etiquetas, numero de clases, etc:"
   ]
  },
  {
   "cell_type": "code",
   "execution_count": null,
   "metadata": {},
   "outputs": [],
   "source": [
    "labs=np.unique(xltr).astype(int); #vector de etiquetas de clase sin repeticiones\n",
    "C=labs.shape[0]; #numero de etiquetas de clase\n",
    "N,D=Xtr.shape; #N=numero de datos de entrenamiento, D=dimension de los datos (numero de caracterısticas)\n",
    "M=Xdv.shape[0]; #numero de datos de development\n",
    "gtr=np.zeros((C,N)); #discriminantes de los datos de entrenamiento\n",
    "gdv=np.zeros((C,M)); #discriminantes de los datos de development"
   ]
  },
  {
   "cell_type": "markdown",
   "metadata": {},
   "source": [
    "Estandarizacion de los datos:"
   ]
  },
  {
   "cell_type": "code",
   "execution_count": null,
   "metadata": {},
   "outputs": [],
   "source": [
    "# Normalise data\n",
    "mu=np.mean(Xtr,axis=0); #media (de cada caracterıstica) del training\n",
    "sigma=np.std(Xtr,axis=0); #desviacion tıpica (de cada caracterıstica) del training\n",
    "sigma[sigma==0]=1;\n",
    "Xtr=(Xtr-mu)/sigma; #training estandarizado\n",
    "Xdv=(Xdv-mu)/sigma; #development estandarizado"
   ]
  },
  {
   "cell_type": "markdown",
   "metadata": {},
   "source": [
    "Creacion, entrenamiento y evaluacion de una mixtura por clase:"
   ]
  },
  {
   "cell_type": "code",
   "execution_count": null,
   "metadata": {},
   "outputs": [],
   "source": [
    "# Parameter estimation and soring samples\n",
    "model=[] #modelo de clasificacion\n",
    "for c,lab in enumerate(labs):\n",
    "  Xtrc=Xtr[xltr==lab]; #datos de entrenamiento de la clase c\n",
    "  Nc=Xtrc.shape[0]; #numero de datos de entrenamiento de la clase c\n",
    "  pc=Nc/N; #prior de la clase c\n",
    "  ##PROBAR COSES ACÍ\n",
    "  gmm=mixture.GaussianMixture(n_components=K, reg_covar=rc, random_state=seed); #mixtura de K Gaussianas ajustada con Xtrc\n",
    "  gmm.fit(Xtrc);\n",
    "  #gtrygdvson las discriminantes de los datos Xtr y Xdv\n",
    "  gtr[c]=math.log(pc)+gmm.score_samples(Xtr);\n",
    "  gdv[c]=math.log(pc)+gmm.score_samples(Xdv);\n",
    "  model.append((pc,gmm));"
   ]
  },
  {
   "cell_type": "markdown",
   "metadata": {},
   "source": [
    "Clasificacion, calculo de error y almacenamiento del model:"
   ]
  },
  {
   "cell_type": "code",
   "execution_count": null,
   "metadata": {},
   "outputs": [],
   "source": [
    "  # Classification of training and eval sets for error estimation\n",
    "idx=np.argmax(gtr,axis=0);\n",
    "etr=np.mean(np.not_equal(labs[idx],xltr))*100;\n",
    "idx=np.argmax(gdv,axis=0);\n",
    "edv=np.mean(np.not_equal(labs[idx],xldv))*100;\n",
    "\n",
    "print('  K      rc   etr   edv')\n",
    "print('--- ------- ----- -----')\n",
    "print(f'{K:3} {rc:3.1e} {etr:5.2f} {edv:5.2f}');\n",
    "\n",
    "filename = 'gmm.K1.rc0.1.mod'\n",
    "pickle.dump(model, open(filename, 'wb'))\n"
   ]
  }
 ],
 "metadata": {
  "kernelspec": {
   "display_name": "vsc",
   "language": "python",
   "name": "python3"
  },
  "language_info": {
   "codemirror_mode": {
    "name": "ipython",
    "version": 3
   },
   "file_extension": ".py",
   "mimetype": "text/x-python",
   "name": "python",
   "nbconvert_exporter": "python",
   "pygments_lexer": "ipython3",
   "version": "3.9.16"
  }
 },
 "nbformat": 4,
 "nbformat_minor": 2
}
