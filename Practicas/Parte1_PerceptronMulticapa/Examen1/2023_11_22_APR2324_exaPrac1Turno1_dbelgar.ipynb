{
  "cells": [
    {
      "cell_type": "markdown",
      "metadata": {
        "id": "_TNP3_mcMTYp"
      },
      "source": [
        "# Examen de laboratorio de APR 2023/24"
      ]
    },
    {
      "cell_type": "markdown",
      "metadata": {
        "id": "h3zQqLFyMTYt"
      },
      "source": [
        "## Preliminares\n",
        "\n",
        "Estimación del error de regresión logística en una tarea de openml:"
      ]
    },
    {
      "cell_type": "code",
      "execution_count": null,
      "metadata": {
        "colab": {
          "base_uri": "https://localhost:8080/"
        },
        "id": "cC9S-5dfMTYu",
        "outputId": "6a8936ed-aeac-43bb-e6fc-4f3fb7f8042d"
      },
      "outputs": [
        {
          "name": "stdout",
          "output_type": "stream",
          "text": [
            "Data id: 3  N: 2556  D: 36  C: 2  Accuracy: 94.5%\n"
          ]
        }
      ],
      "source": [
        "import warnings; warnings.filterwarnings(\"ignore\"); import numpy as np\n",
        "from sklearn.datasets import fetch_openml\n",
        "from sklearn.preprocessing import LabelEncoder\n",
        "from sklearn.model_selection import train_test_split\n",
        "from sklearn.linear_model import LogisticRegression\n",
        "from sklearn.metrics import accuracy_score\n",
        "\n",
        "data_id = 3; X, y = fetch_openml(data_id=data_id, return_X_y=True, as_frame=False)\n",
        "mask = ~np.isnan(X).any(axis=1); X = X[mask, :]; y = y[mask]\n",
        "y = LabelEncoder().fit_transform(y); C = len(np.unique(y))\n",
        "X_train, X_test, y_train, y_test = train_test_split(X, y, test_size=0.2, shuffle=True, random_state=23)\n",
        "\n",
        "clf = LogisticRegression(random_state=23).fit(X_train, y_train)\n",
        "N, D = X_train.shape; acc = accuracy_score(y_test, clf.predict(X_test))\n",
        "print(f'Data id: {data_id}  N: {N}  D: {D}  C: {C}  Accuracy: {acc:.1%}')"
      ]
    },
    {
      "cell_type": "code",
      "execution_count": 10,
      "metadata": {},
      "outputs": [
        {
          "name": "stdout",
          "output_type": "stream",
          "text": [
            "Data id: 3  N: 2556  D: 36  C: 2  Accuracy: 98.9%\n"
          ]
        }
      ],
      "source": [
        "import warnings; warnings.filterwarnings(\"ignore\"); import numpy as np\n",
        "from sklearn.datasets import fetch_openml\n",
        "from sklearn.preprocessing import LabelEncoder\n",
        "from sklearn.model_selection import train_test_split\n",
        "from sklearn.neural_network import MLPClassifier\n",
        "from sklearn.metrics import accuracy_score\n",
        "\n",
        "data_id = 3; X, y = fetch_openml(data_id=data_id, return_X_y=True, as_frame=False)\n",
        "mask = ~np.isnan(X).any(axis=1); X = X[mask, :]; y = y[mask]\n",
        "y = LabelEncoder().fit_transform(y); C = len(np.unique(y))\n",
        "X_train, X_test, y_train, y_test = train_test_split(X, y, test_size=0.2, shuffle=True, random_state=23)\n",
        "\n",
        "clf = MLPClassifier(random_state=23, hidden_layer_sizes=[1024, 1024], solver=\"adam\", activation=\"relu\", batch_size=128, learning_rate=\"adaptive\").fit(X_train, y_train)\n",
        "N, D = X_train.shape; acc = accuracy_score(y_test, clf.predict(X_test))\n",
        "print(f'Data id: {data_id}  N: {N}  D: {D}  C: {C}  Accuracy: {acc:.1%}')"
      ]
    }
  ],
  "metadata": {
    "accelerator": "GPU",
    "colab": {
      "gpuType": "T4",
      "provenance": []
    },
    "kernelspec": {
      "display_name": "Python 3",
      "name": "python3"
    },
    "language_info": {
      "codemirror_mode": {
        "name": "ipython",
        "version": 3
      },
      "file_extension": ".py",
      "mimetype": "text/x-python",
      "name": "python",
      "nbconvert_exporter": "python",
      "pygments_lexer": "ipython3",
      "version": "3.9.16"
    },
    "orig_nbformat": 4
  },
  "nbformat": 4,
  "nbformat_minor": 0
}
